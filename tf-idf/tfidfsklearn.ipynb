{
 "cells": [
  {
   "cell_type": "code",
   "execution_count": 1,
   "metadata": {},
   "outputs": [],
   "source": [
    "import pandas as pd\n",
    "from sklearn.feature_extraction.text import TfidfVectorizer"
   ]
  },
  {
   "cell_type": "code",
   "execution_count": 6,
   "metadata": {},
   "outputs": [],
   "source": [
    "documentA = 'The sharing of info with the neighbours takes place at regular intervals.'\n",
    "documentB = 'It makes use of Bellman Ford Algorithm for making routing table.'"
   ]
  },
  {
   "cell_type": "code",
   "execution_count": 7,
   "metadata": {},
   "outputs": [],
   "source": [
    "vectorizer = TfidfVectorizer()\n",
    "vectors = vectorizer.fit_transform([documentA, documentB])\n",
    "feature_names = vectorizer.get_feature_names()\n",
    "dense = vectors.todense()\n",
    "denselist = dense.tolist()\n",
    "df = pd.DataFrame(denselist, columns=feature_names)"
   ]
  },
  {
   "cell_type": "code",
   "execution_count": 8,
   "metadata": {},
   "outputs": [
    {
     "name": "stdout",
     "output_type": "stream",
     "text": [
      "   algorithm        at   bellman       for      ford      info  intervals  \\\n",
      "0   0.000000  0.272103  0.000000  0.000000  0.000000  0.272103   0.272103   \n",
      "1   0.308515  0.000000  0.308515  0.308515  0.308515  0.000000   0.000000   \n",
      "\n",
      "         it     makes    making  ...        of     place   regular   routing  \\\n",
      "0  0.000000  0.000000  0.000000  ...  0.193603  0.272103  0.272103  0.000000   \n",
      "1  0.308515  0.308515  0.308515  ...  0.219511  0.000000  0.000000  0.308515   \n",
      "\n",
      "    sharing     table     takes       the       use      with  \n",
      "0  0.272103  0.000000  0.272103  0.544205  0.000000  0.272103  \n",
      "1  0.000000  0.308515  0.000000  0.000000  0.308515  0.000000  \n",
      "\n",
      "[2 rows x 21 columns]\n"
     ]
    }
   ],
   "source": [
    "print(df)"
   ]
  },
  {
   "cell_type": "code",
   "execution_count": null,
   "metadata": {},
   "outputs": [],
   "source": []
  }
 ],
 "metadata": {
  "kernelspec": {
   "display_name": "Python 3",
   "language": "python",
   "name": "python3"
  },
  "language_info": {
   "codemirror_mode": {
    "name": "ipython",
    "version": 3
   },
   "file_extension": ".py",
   "mimetype": "text/x-python",
   "name": "python",
   "nbconvert_exporter": "python",
   "pygments_lexer": "ipython3",
   "version": "3.8.3"
  }
 },
 "nbformat": 4,
 "nbformat_minor": 4
}
